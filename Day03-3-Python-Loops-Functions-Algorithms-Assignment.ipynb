{
  "cells": [
    {
      "cell_type": "markdown",
      "metadata": {
        "id": "LiP1pQtNNwd5"
      },
      "source": [
        "# Day 3: Python Loops, Functions, and Basic Algorithms\n",
        "## Instructions & Exercises\n",
        "\n",
        "Welcome to Day 3! Today you will practice writing loops, organizing code with functions, and implementing simple algorithms. We build on Days 1–2 and do not repeat earlier topics.\n",
        "\n",
        "---\n"
      ]
    },
    {
      "cell_type": "markdown",
      "metadata": {
        "id": "hTVUAErxNwd7"
      },
      "source": [
        "## 🎯 Learning Objectives\n",
        "\n",
        "By the end of this lesson, you will be able to:\n",
        "1. Use `for` and `while` loops to iterate and control repetition\n",
        "2. Define and call functions with parameters and return values\n",
        "3. Implement simple algorithms (linear search, max) using loops and functions\n",
        "\n",
        "---\n"
      ]
    },
    {
      "cell_type": "markdown",
      "metadata": {
        "id": "mHl7seQ9Nwd7"
      },
      "source": [
        "## 🔁 Section 1: Loops\n",
        "\n",
        "### Exercise 1.1: For Loop — Sales Summary\n",
        "Given `sales = [120, 98, 145, 130, 160, 150]`:\n",
        "1. Use a `for` loop to compute `total`\n",
        "2. Compute `average` using `total` and `len`\n",
        "3. Print `min`, `max`, and `average` (rounded to 2 decimals)"
      ]
    },
    {
      "cell_type": "code",
      "execution_count": 13,
      "metadata": {
        "id": "24imEhZvNwd7",
        "outputId": "cb16c03d-fccc-4074-dc15-fe3d142db99a",
        "colab": {
          "base_uri": "https://localhost:8080/"
        }
      },
      "outputs": [
        {
          "output_type": "stream",
          "name": "stdout",
          "text": [
            "Minimum Sale: 98\n",
            "Maximum Sale: 160\n",
            "Average: 133.83\n"
          ]
        }
      ],
      "source": [
        "# Exercise 1.1: Your code here\n",
        "\n",
        "sales = [120, 98, 145, 130, 160, 150]\n",
        "\n",
        "total = 0\n",
        "for sale in sales:\n",
        "  total += sale\n",
        "\n",
        "average = round(total / len(sales), 2)\n",
        "\n",
        "min_sale = min(sales)\n",
        "max_sale = max(sales)\n",
        "\n",
        "print(f\"Minimum Sale: {min_sale}\")\n",
        "print(f\"Maximum Sale: {max_sale}\")\n",
        "print(f\"Average: {average}\")\n"
      ]
    },
    {
      "cell_type": "markdown",
      "metadata": {
        "id": "_p3U1EnSNwd8"
      },
      "source": [
        "### Exercise 1.2: While Loop — Savings Simulator\n",
        "Simulate saving money until a goal is reached.\n",
        "- Start with `balance = 0`\n",
        "- Each month add `deposit = 250`\n",
        "- Stop when `balance >= goal` where `goal = 2000`\n",
        "- Count months and print the final `balance` and `months`\n",
        "\n"
      ]
    },
    {
      "cell_type": "code",
      "execution_count": 14,
      "metadata": {
        "id": "bvEbPduzNwd8",
        "outputId": "a22ad3fa-a48b-45f6-b2ec-40d6b9ffdbe1",
        "colab": {
          "base_uri": "https://localhost:8080/"
        }
      },
      "outputs": [
        {
          "output_type": "stream",
          "name": "stdout",
          "text": [
            "Final balance: 2000\n",
            "Number of months: 8\n"
          ]
        }
      ],
      "source": [
        "# Exercise 1.2: Your code here\n",
        "\n",
        "balance = 0\n",
        "deposit = 250\n",
        "goal = 2000\n",
        "month = 0\n",
        "\n",
        "while balance < goal:\n",
        "  balance += deposit\n",
        "  month += 1\n",
        "\n",
        "print(f\"Final balance: {balance}\")\n",
        "print(f\"Number of months: {month}\")\n",
        "\n",
        "\n"
      ]
    },
    {
      "cell_type": "markdown",
      "metadata": {
        "id": "naRLK8Y5Nwd8"
      },
      "source": [
        "\n",
        "### Exercise 1.3: Loop Patterns — Filter and Transform\n",
        "Given `temperatures = [72, 65, 88, 90, 67, 73, 85]`:\n",
        "1. Build a new list `hot_days` containing temps >= 80 (using a loop)\n",
        "2. Build `celsius` list converting each temp to Celsius: `(f - 32) * 5/9`"
      ]
    },
    {
      "cell_type": "code",
      "execution_count": 17,
      "metadata": {
        "id": "tFrGRiftNwd8",
        "outputId": "a7f016e1-ca83-4f98-cadd-d7a468f1bc28",
        "colab": {
          "base_uri": "https://localhost:8080/"
        }
      },
      "outputs": [
        {
          "output_type": "stream",
          "name": "stdout",
          "text": [
            "Hot Days: [88, 90, 85]\n",
            "Celsius: [22.22222222222222, 18.333333333333332, 31.11111111111111, 32.22222222222222, 19.444444444444443, 22.77777777777778, 29.444444444444443]\n"
          ]
        }
      ],
      "source": [
        "# Exercise 1.3: Your code here\n",
        "\n",
        "temperatures = [72, 65, 88, 90, 67, 73, 85]\n",
        "hot_days = []\n",
        "celsius = []\n",
        "\n",
        "for temperature in temperatures:\n",
        "  if temperature >= 80:\n",
        "    hot_days.append(temperature)\n",
        "  celsius_tem = (temperature - 32) * 5/9\n",
        "  celsius.append(celsius_tem)\n",
        "\n",
        "print(f\"Hot Days: {hot_days}\")\n",
        "print(f\"Celsius: {celsius}\")"
      ]
    },
    {
      "cell_type": "markdown",
      "metadata": {
        "id": "3SbU7ZESNwd8"
      },
      "source": [
        "---\n",
        "\n",
        "## 🧩 Section 2: Functions\n",
        "\n",
        "### Exercise 2.1: Summary Statistics Function\n",
        "Write a function `summary_stats(numbers)` that returns a dictionary with `min`, `max`, and `mean` (rounded to 2 decimals) for a list of numbers. Test with `sales` from Exercise 1.1."
      ]
    },
    {
      "cell_type": "code",
      "execution_count": 17,
      "metadata": {
        "id": "e32cheJ2Nwd8"
      },
      "outputs": [],
      "source": [
        "# Exercise 2.1: Your code here\n",
        "\n",
        "def summary_stats(numbers):\n",
        "  total = 0\n",
        "  for n in numbers:\n",
        "    total += n\n",
        "  min_val = min(numbers)\n",
        "  max_val = max(numbers)\n",
        "  count = len(numbers)\n",
        "  mean = round(total / count, 2)\n",
        "\n",
        "  return min_val, max_val, mean\n",
        "\n",
        "\n",
        ""
      ]
    },
    {
      "cell_type": "code",
      "source": [
        "min, max, mean = summary_stats([3,5,2])"
      ],
      "metadata": {
        "id": "Ntaq02r5ZoSr",
        "outputId": "a5367ab6-fcbd-465e-bd28-15393e4af368",
        "colab": {
          "base_uri": "https://localhost:8080/",
          "height": 258
        }
      },
      "execution_count": 18,
      "outputs": [
        {
          "output_type": "error",
          "ename": "TypeError",
          "evalue": "'int' object is not callable",
          "traceback": [
            "\u001b[0;31m---------------------------------------------------------------------------\u001b[0m",
            "\u001b[0;31mTypeError\u001b[0m                                 Traceback (most recent call last)",
            "\u001b[0;32m/tmp/ipython-input-1997004985.py\u001b[0m in \u001b[0;36m<cell line: 0>\u001b[0;34m()\u001b[0m\n\u001b[0;32m----> 1\u001b[0;31m \u001b[0mmin\u001b[0m\u001b[0;34m,\u001b[0m \u001b[0mmax\u001b[0m\u001b[0;34m,\u001b[0m \u001b[0mmean\u001b[0m \u001b[0;34m=\u001b[0m \u001b[0msummary_stats\u001b[0m\u001b[0;34m(\u001b[0m\u001b[0;34m[\u001b[0m\u001b[0;36m3\u001b[0m\u001b[0;34m,\u001b[0m\u001b[0;36m5\u001b[0m\u001b[0;34m,\u001b[0m\u001b[0;36m2\u001b[0m\u001b[0;34m]\u001b[0m\u001b[0;34m)\u001b[0m\u001b[0;34m\u001b[0m\u001b[0;34m\u001b[0m\u001b[0m\n\u001b[0m",
            "\u001b[0;32m/tmp/ipython-input-3770501842.py\u001b[0m in \u001b[0;36msummary_stats\u001b[0;34m(numbers)\u001b[0m\n\u001b[1;32m      5\u001b[0m   \u001b[0;32mfor\u001b[0m \u001b[0mn\u001b[0m \u001b[0;32min\u001b[0m \u001b[0mnumbers\u001b[0m\u001b[0;34m:\u001b[0m\u001b[0;34m\u001b[0m\u001b[0;34m\u001b[0m\u001b[0m\n\u001b[1;32m      6\u001b[0m     \u001b[0mtotal\u001b[0m \u001b[0;34m+=\u001b[0m \u001b[0mn\u001b[0m\u001b[0;34m\u001b[0m\u001b[0;34m\u001b[0m\u001b[0m\n\u001b[0;32m----> 7\u001b[0;31m   \u001b[0mmin_val\u001b[0m \u001b[0;34m=\u001b[0m \u001b[0mmin\u001b[0m\u001b[0;34m(\u001b[0m\u001b[0mnumbers\u001b[0m\u001b[0;34m)\u001b[0m\u001b[0;34m\u001b[0m\u001b[0;34m\u001b[0m\u001b[0m\n\u001b[0m\u001b[1;32m      8\u001b[0m   \u001b[0mmax_val\u001b[0m \u001b[0;34m=\u001b[0m \u001b[0mmax\u001b[0m\u001b[0;34m(\u001b[0m\u001b[0mnumbers\u001b[0m\u001b[0;34m)\u001b[0m\u001b[0;34m\u001b[0m\u001b[0;34m\u001b[0m\u001b[0m\n\u001b[1;32m      9\u001b[0m   \u001b[0mcount\u001b[0m \u001b[0;34m=\u001b[0m \u001b[0mlen\u001b[0m\u001b[0;34m(\u001b[0m\u001b[0mnumbers\u001b[0m\u001b[0;34m)\u001b[0m\u001b[0;34m\u001b[0m\u001b[0;34m\u001b[0m\u001b[0m\n",
            "\u001b[0;31mTypeError\u001b[0m: 'int' object is not callable"
          ]
        }
      ]
    },
    {
      "cell_type": "code",
      "source": [
        "mean"
      ],
      "metadata": {
        "id": "-JM40EKuZ7xg",
        "outputId": "f3ab091c-1e5e-482b-be2d-0baa80ae3cf1",
        "colab": {
          "base_uri": "https://localhost:8080/"
        }
      },
      "execution_count": 16,
      "outputs": [
        {
          "output_type": "execute_result",
          "data": {
            "text/plain": [
              "35.67"
            ]
          },
          "metadata": {},
          "execution_count": 16
        }
      ]
    },
    {
      "cell_type": "markdown",
      "metadata": {
        "id": "zaFQdNcYNwd8"
      },
      "source": [
        "### Exercise 2.2: Parameter Defaults\n",
        "Write `apply_discount` that returns the discounted amount and uses a 5% default value for discount. Test with two calls: one using the default, one passing `rate=0.12`. (price = $100.00)"
      ]
    },
    {
      "cell_type": "code",
      "execution_count": 44,
      "metadata": {
        "id": "wfBfYSx1Nwd9",
        "outputId": "02676d8b-1e66-4f56-a4e7-98eab6d6f369",
        "colab": {
          "base_uri": "https://localhost:8080/"
        }
      },
      "outputs": [
        {
          "output_type": "execute_result",
          "data": {
            "text/plain": [
              "95.0"
            ]
          },
          "metadata": {},
          "execution_count": 44
        }
      ],
      "source": [
        "# Exercise 2.2: Your code here\n",
        "def apply_discount(price, default = 0.05):\n",
        "  return round(price * (1 - default), 2)\n",
        "\n",
        "\n",
        "apply_discount(100)\n"
      ]
    },
    {
      "cell_type": "markdown",
      "metadata": {
        "id": "cdhj3p2SNwd9"
      },
      "source": [
        "### Exercise 2.3: Pure Function vs. Side Effects\n",
        "A pure function is a function that:\n",
        "\n",
        "* Always gives the same output for the same inputs.\n",
        "* Does not change anything outside the function (it does not modify variables, lists, or other data that were created outside of it).\n",
        "\n",
        "External state means any variable, object, or data structure that exists outside the function — for example, a list or variable defined before the function is called. If a function changes this external state, it has a side effect.\n",
        "\n",
        "Your task:\n",
        "1. Write a function add_points(current, points) that returns a new total score.\n",
        "\n",
        "2. Write a function append_note(notes, msg) that takes a list of notes and a message, and appends the message to the list.\n",
        "\n",
        "3. Explain which function is pure and why."
      ]
    },
    {
      "cell_type": "code",
      "execution_count": null,
      "metadata": {
        "id": "qZbUpXNINwd9"
      },
      "outputs": [],
      "source": [
        "# Exercise 2.3: Your code here\n",
        "def add_points(current, points):\n",
        "\n"
      ]
    },
    {
      "cell_type": "markdown",
      "metadata": {
        "id": "eUbpS8_JNwd9"
      },
      "source": [
        "---\n",
        "\n",
        "## 🧠 Section 3: Basic Algorithms\n",
        "\n",
        "### Exercise 3.1: Linear Search\n",
        "Implement `linear_search(items, target)` to return the index of `target` in `items`, or `-1` if not found. Test with `items = [\"red\", \"blue\", \"green\", \"blue\"]` and `target = \"green\"."
      ]
    },
    {
      "cell_type": "code",
      "execution_count": 46,
      "metadata": {
        "id": "_Zfa4sXaNwd9"
      },
      "outputs": [],
      "source": [
        "# Exercise 3.1: Your code here\n",
        "def linear_search (items, target):\n",
        "  for index, item in enumerate(items):\n",
        "    if item == target:\n",
        "      return index\n",
        "\n",
        "  return -1\n"
      ]
    },
    {
      "cell_type": "code",
      "source": [
        "linear_search ([\"red\", \"blue\", \"green\", \"blue\"], target=\"green\")"
      ],
      "metadata": {
        "id": "PnYnJAZufqJV",
        "outputId": "53b3db92-d02d-4e08-e6cc-c441e2d3301e",
        "colab": {
          "base_uri": "https://localhost:8080/"
        }
      },
      "execution_count": 52,
      "outputs": [
        {
          "output_type": "execute_result",
          "data": {
            "text/plain": [
              "2"
            ]
          },
          "metadata": {},
          "execution_count": 52
        }
      ]
    },
    {
      "cell_type": "markdown",
      "metadata": {
        "id": "BiuCDT0jNwd9"
      },
      "source": [
        "(part 2) How does the behavior change once checking for \"blue\"? Can you fix the problem?"
      ]
    },
    {
      "cell_type": "code",
      "execution_count": 24,
      "metadata": {
        "id": "XkN-EIpvNwd9"
      },
      "outputs": [],
      "source": [
        "# Exercise 3.1: Your code here (second part)\n",
        "def linear_search_1(items, target):\n",
        "  indices = []\n",
        "  for index, item in enumerate(items):\n",
        "    if item == target:\n",
        "      indices.append(index)\n",
        "  return indices if indices else -1\n",
        "\n"
      ]
    },
    {
      "cell_type": "code",
      "source": [
        "items = [\"red\", \"blue\", \"green\", \"blue\"]\n",
        "target = \"blue\"\n",
        "\n",
        "result = linear_search_1(items, target)\n",
        "print(f\"Indices of '{target}': {result}\")"
      ],
      "metadata": {
        "id": "aoqP_n-sqC7W",
        "outputId": "a2b6ac70-2ba2-45f6-e2be-b6b0ec7629fc",
        "colab": {
          "base_uri": "https://localhost:8080/"
        }
      },
      "execution_count": 25,
      "outputs": [
        {
          "output_type": "stream",
          "name": "stdout",
          "text": [
            "Indices of 'blue': [1, 3]\n"
          ]
        }
      ]
    },
    {
      "cell_type": "markdown",
      "metadata": {
        "id": "nhGf6obTNwd-"
      },
      "source": [
        "### Exercise 3.2: Find Maximum/Minimum (Manual)\n",
        "Without using `max()` or `min()`, iterate **once** over `numbers = [7, 3, 11, 4, 9]` to compute both `min_val` and `max_val`."
      ]
    },
    {
      "cell_type": "code",
      "execution_count": 3,
      "metadata": {
        "id": "0ao2iA_yNwd-",
        "outputId": "bf26174d-9d18-49ea-d3ef-03d9d4ebd86c",
        "colab": {
          "base_uri": "https://localhost:8080/"
        }
      },
      "outputs": [
        {
          "output_type": "stream",
          "name": "stdout",
          "text": [
            "Minimum: 3\n",
            "Maximum: 11\n"
          ]
        }
      ],
      "source": [
        "# Exercise 3.2: Your code here\n",
        "numbers = [7,3,11,4,9]\n",
        "\n",
        "if numbers:\n",
        "  min_val = numbers[0]\n",
        "  max_val = numbers[0]\n",
        "\n",
        "for num in numbers[1:]:\n",
        "  if num < min_val:\n",
        "    min_val= num\n",
        "\n",
        "  if num > max_val:\n",
        "    max_val = num\n",
        "\n",
        "print(f\"Minimum: {min_val}\")\n",
        "print(f\"Maximum: {max_val}\")\n",
        "\n"
      ]
    },
    {
      "cell_type": "markdown",
      "metadata": {
        "id": "nL1znD2uNwd-"
      },
      "source": [
        "### Exercise 3.3: Frequency Count\n",
        "Given `departments = [\"Sales\", \"HR\", \"Sales\", \"IT\", \"IT\", \"IT\"]`, build a frequency dictionary mapping department → count using a loop."
      ]
    },
    {
      "cell_type": "code",
      "execution_count": 22,
      "metadata": {
        "id": "pzn7jywKNwd-",
        "outputId": "b6a566b9-1ffb-4a9a-f973-0c7a19e3946e",
        "colab": {
          "base_uri": "https://localhost:8080/"
        }
      },
      "outputs": [
        {
          "output_type": "stream",
          "name": "stdout",
          "text": [
            "Frequency Dictionary:, {'Sales': 2, 'HR': 1, 'IT': 3}\n"
          ]
        }
      ],
      "source": [
        "# Exercise 3.3: Your code here\n",
        "departments = [\"Sales\", \"HR\", \"Sales\", \"IT\", \"IT\", \"IT\"]\n",
        "frequency = {}\n",
        "\n",
        "for dept in departments:\n",
        "  if dept in frequency:\n",
        "    frequency[dept] += 1\n",
        "  else:\n",
        "    frequency[dept] = 1\n",
        "\n",
        "print(\"Frequency Dictionary:\", frequency)\n"
      ]
    },
    {
      "cell_type": "markdown",
      "metadata": {
        "id": "ZrDhC5vTNwd-"
      },
      "source": [
        "---\n",
        "\n",
        "## 🚀 Challenge Problems (Optional)\n",
        "\n",
        "1. Moving Average: Write `moving_average(nums, window)` that returns a list of averages for each contiguous window (ignore windows that don’t fit).\n",
        "2. Order-Preserving Dedup: Given a list of names with duplicates, return a new list with the first occurrence kept and later duplicates removed, preserving order.\n",
        "\n"
      ]
    },
    {
      "cell_type": "markdown",
      "metadata": {
        "id": "1uFZc-ddNwd-"
      },
      "source": [
        "---\n",
        "\n",
        "## 🤔 Reflection Questions\n",
        "\n",
        "1. Where did loops simplify your code the most today?\n",
        "2. How did functions improve clarity or reuse?\n",
        "3. How would you explain linear search and max in plain English?\n",
        "\n"
      ]
    },
    {
      "cell_type": "markdown",
      "metadata": {
        "id": "KLFYCJhzNwd-"
      },
      "source": [
        "---\n",
        "\n",
        "## 📚 Additional Resources\n",
        "\n",
        "- Python For Loops: `https://docs.python.org/3/tutorial/controlflow.html#for-statements`\n",
        "- While Loops: `https://docs.python.org/3/tutorial/introduction.html#first-steps-towards-programming`\n",
        "- Defining Functions: `https://docs.python.org/3/tutorial/controlflow.html#defining-functions`\n",
        "- Algorithms (intro): `https://runestone.academy/ns/books/published/pythonds/AlgorithmAnalysis/toctree.html`\n",
        "\n",
        "---\n"
      ]
    }
  ],
  "metadata": {
    "language_info": {
      "name": "python"
    },
    "colab": {
      "provenance": []
    },
    "kernelspec": {
      "name": "python3",
      "display_name": "Python 3"
    }
  },
  "nbformat": 4,
  "nbformat_minor": 0
}