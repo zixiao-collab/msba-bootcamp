{
  "cells": [
    {
      "cell_type": "markdown",
      "metadata": {
        "id": "EHjR2Ed5A5O9"
      },
      "source": [
        "# Day 3: Functions & Basic Algorithms\n",
        "## Lecture Notebook\n",
        "\n",
        "This notebook is for live coding on functions and basic algorithms (searching and simple aggregations).\n",
        "\n",
        "---\n"
      ]
    },
    {
      "cell_type": "markdown",
      "metadata": {
        "id": "wISY7w_bA5O-"
      },
      "source": [
        "## 🎯 Goals for This Session\n",
        "- Define and call functions with parameters and return values\n",
        "- Compose functions for clarity and reuse\n",
        "- Implement linear search and manual max\n",
        "\n",
        "---\n"
      ]
    },
    {
      "cell_type": "code",
      "source": [
        "def Greeting(greet='Hello'):\n",
        "  return(greet)"
      ],
      "metadata": {
        "id": "JM-tKbddA6Yi"
      },
      "execution_count": 6,
      "outputs": []
    },
    {
      "cell_type": "code",
      "source": [
        "x = Greeting(greet=\"hi\")"
      ],
      "metadata": {
        "id": "0QdDbGV4BlJR"
      },
      "execution_count": 9,
      "outputs": []
    },
    {
      "cell_type": "code",
      "source": [
        "x"
      ],
      "metadata": {
        "id": "2o_qeC1FC6RD",
        "outputId": "26c3f4b4-2fab-43cf-a184-053122bb5ea8",
        "colab": {
          "base_uri": "https://localhost:8080/",
          "height": 35
        }
      },
      "execution_count": 10,
      "outputs": [
        {
          "output_type": "execute_result",
          "data": {
            "text/plain": [
              "'hi'"
            ],
            "application/vnd.google.colaboratory.intrinsic+json": {
              "type": "string"
            }
          },
          "metadata": {},
          "execution_count": 10
        }
      ]
    },
    {
      "cell_type": "markdown",
      "metadata": {
        "id": "CtKBwbDRA5O_"
      },
      "source": [
        "## 🧩 Part 1: Functions\n",
        "\n",
        "### Demo 1.1: Summary Function\n",
        "Write `summarize(numbers)` that returns `(count, total, mean)` for list objects.\n"
      ]
    },
    {
      "cell_type": "code",
      "execution_count": 11,
      "metadata": {
        "id": "hGNJRsyEA5O_"
      },
      "outputs": [],
      "source": [
        "# Live Code: summarize\n",
        "\n",
        "def summarize(numbers):\n",
        "  total = 0\n",
        "  for n in numbers:\n",
        "    total += n\n",
        "  count = len(numbers)\n",
        "  mean = round(total / count,2)\n",
        "\n",
        "  return count, total, mean\n",
        "\n"
      ]
    },
    {
      "cell_type": "code",
      "source": [
        "count, total, mean = summarize([1,3,5]) #unpacked"
      ],
      "metadata": {
        "id": "oDs7yDeNDrRc",
        "outputId": "a264071e-07f5-4f2f-e0e9-4dd333ab5225",
        "colab": {
          "base_uri": "https://localhost:8080/"
        }
      },
      "execution_count": 12,
      "outputs": [
        {
          "output_type": "execute_result",
          "data": {
            "text/plain": [
              "(3, 9, 3.0)"
            ]
          },
          "metadata": {},
          "execution_count": 12
        }
      ]
    },
    {
      "cell_type": "markdown",
      "metadata": {
        "id": "Ft7PwN2hA5O_"
      },
      "source": [
        "### Demo 1.2: Parameters and Defaults\n",
        "Write `apply_tax(amount, rate=0.0625)` returning the rounded total.\n"
      ]
    },
    {
      "cell_type": "code",
      "execution_count": null,
      "metadata": {
        "id": "iMXqFc5MA5O_"
      },
      "outputs": [],
      "source": [
        "# Live Code: apply_tax\n",
        "\n",
        "# def apply_tax(amount, rate=0.0625):\n",
        "#     ...\n",
        "# return round(total, 2)\n",
        "\n"
      ]
    },
    {
      "cell_type": "markdown",
      "metadata": {
        "id": "7vv5_C3mA5PA"
      },
      "source": [
        "## 🔍 Part 2: Basic Algorithms\n",
        "\n",
        "### Demo 2.1: Linear Search\n",
        "Implement `find_index(items, target)` to return the first index or `-1`."
      ]
    },
    {
      "cell_type": "code",
      "execution_count": null,
      "metadata": {
        "id": "1vvn2kwIA5PA"
      },
      "outputs": [],
      "source": [
        "# Live Code: find_index\n",
        "\n",
        "# def find_index(items, target):\n",
        "#     ...\n",
        "# return -1\n",
        "\n"
      ]
    },
    {
      "cell_type": "markdown",
      "metadata": {
        "id": "zHhTWXQcA5PA"
      },
      "source": [
        "### Demo 2.2: Simple Sort\n",
        "Here’s a bare-bones outline of selection sort. Convert it into a function to sort lists:\n",
        "\n",
        "1. Start at the first position in the list.\n",
        "2. Find the smallest value in the remaining unsorted part of the list.\n",
        "3. Swap it with the value at the current position.\n",
        "4. Move to the next position and repeat steps 2–3 until the whole list is sorted.\n"
      ]
    },
    {
      "cell_type": "code",
      "execution_count": null,
      "metadata": {
        "id": "YpD4nVjmA5PA"
      },
      "outputs": [],
      "source": [
        "# Live Code: selection sort\n",
        "\n",
        "# def selection_sort(lst):\n",
        "#     ...\n",
        "\n"
      ]
    },
    {
      "cell_type": "markdown",
      "metadata": {
        "id": "9nZgKzEcA5PA"
      },
      "source": [
        "### Demo 2.3: Running Total (Cumulative Sum)\n",
        "Write a function `running_total(numbers)` that returns a new list where each element is the cumulative sum up to that position."
      ]
    },
    {
      "cell_type": "code",
      "execution_count": null,
      "metadata": {
        "id": "Vaz7QjfVA5PA"
      },
      "outputs": [],
      "source": [
        "# Live Code: running_total\n",
        "\n",
        "# def running_total(numbers):\n",
        "#     ...\n",
        "# return result\n",
        "\n"
      ]
    },
    {
      "cell_type": "markdown",
      "metadata": {
        "id": "Zk3i2Xq-A5PB"
      },
      "source": [
        "### Demo 2.4: Order-Preserving Dedup\n",
        "Write a function `dedup_preserve(items)` that removes duplicates while keeping the first occurrence and preserving original order.\n"
      ]
    },
    {
      "cell_type": "code",
      "execution_count": null,
      "metadata": {
        "id": "kinQYz77A5PB"
      },
      "outputs": [],
      "source": [
        "# Live Code: dedup_preserve\n",
        "\n",
        "# def dedup_preserve(items):\n",
        "#     ...\n",
        "# return unique_items\n",
        "\n"
      ]
    },
    {
      "cell_type": "markdown",
      "metadata": {
        "id": "yMwnF4UaA5PB"
      },
      "source": [
        "### Demo 2.5\n",
        "Add a docstring for the function you wrote in 2.4"
      ]
    },
    {
      "cell_type": "code",
      "execution_count": null,
      "metadata": {
        "id": "GF1EdwQPA5PB"
      },
      "outputs": [],
      "source": [
        "# Live Code: dedup_preserve with docstring\n",
        "\n",
        "# def dedup_preserve(items):\n",
        "# \"\"\"\n",
        "# ...\n",
        "# \"\"\"\n",
        "# return unique_items"
      ]
    }
  ],
  "metadata": {
    "kernelspec": {
      "display_name": "py_latest",
      "language": "python",
      "name": "python3"
    },
    "language_info": {
      "codemirror_mode": {
        "name": "ipython",
        "version": 3
      },
      "file_extension": ".py",
      "mimetype": "text/x-python",
      "name": "python",
      "nbconvert_exporter": "python",
      "pygments_lexer": "ipython3",
      "version": "3.13.2"
    },
    "colab": {
      "provenance": []
    }
  },
  "nbformat": 4,
  "nbformat_minor": 0
}